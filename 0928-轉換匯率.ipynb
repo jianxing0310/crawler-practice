{
 "cells": [
  {
   "cell_type": "markdown",
   "metadata": {},
   "source": [
    "# 互動式 各國匯率轉換\n"
   ]
  },
  {
   "cell_type": "code",
   "execution_count": 81,
   "metadata": {
    "collapsed": true
   },
   "outputs": [],
   "source": [
    "from ipywidgets import interact, interact_manual  #互動套件\n",
    "def transform(money,currency):  #轉換成台幣\n",
    "    total = float(float(money)*currency)\n",
    "    print(\"換算台幣為: \" + str(total) + \" 元。\")  \n",
    "def transform2(tw_money,currency): #台幣轉換成各國幣值\n",
    "    total = float(float(tw_money)/currency)\n",
    "    print(\"換算為: \".format() + str(total) + \" 元。\")"
   ]
  },
  {
   "cell_type": "markdown",
   "metadata": {},
   "source": [
    "## 爬取各國匯率  台灣銀行資料\n"
   ]
  },
  {
   "cell_type": "code",
   "execution_count": 82,
   "metadata": {
    "collapsed": false
   },
   "outputs": [
    {
     "name": "stdout",
     "output_type": "stream",
     "text": [
      "31.07\n",
      "0.3033\n",
      "39.72\n",
      "0.02689\n",
      "0.8048\n",
      "34.64\n",
      "4.606\n"
     ]
    }
   ],
   "source": [
    "import requests\n",
    "from bs4 import BeautifulSoup as bs\n",
    "\n",
    "url = \"http://rate.bot.com.tw/xrt?Lang=zh-TW\"\n",
    "res = requests.get(url)\n",
    "#print res\n",
    "soup = bs(res.text)\n",
    "currency = soup.select(\".print_hide\")\n",
    "\n",
    "print currency[14].text  #美國\n",
    "print currency[70].text  #日圓\n",
    "print currency[30].text  #英鎊\n",
    "print currency[134].text  #韓元\n",
    "print currency[102].text  #泰銖\n",
    "print currency[126].text  #歐元\n",
    "print currency[158].text  #人民幣\n"
   ]
  },
  {
   "cell_type": "markdown",
   "metadata": {},
   "source": [
    "## 各國幣換算成台幣\n"
   ]
  },
  {
   "cell_type": "code",
   "execution_count": 83,
   "metadata": {
    "collapsed": false
   },
   "outputs": [],
   "source": [
    "interact_manual(transform, money=\"\", currency={\"USD\":float(currency[14].text), \"JPY\":float(currency[70].text), \"CHY\":float(currency[158].text),\n",
    "                                              \"GBP\":float(currency[30].text),\"KRW\":float(currency[134].text),\"THB\":float(currency[102].text),\n",
    "                                              \"EUR\":float(currency[158].text)});"
   ]
  },
  {
   "cell_type": "markdown",
   "metadata": {},
   "source": [
    "## 台幣換算成各國幣值"
   ]
  },
  {
   "cell_type": "code",
   "execution_count": 85,
   "metadata": {
    "collapsed": false
   },
   "outputs": [
    {
     "name": "stdout",
     "output_type": "stream",
     "text": [
      "換算為: 1048.65771812 元。\n"
     ]
    }
   ],
   "source": [
    "interact_manual(transform2, tw_money=\"\", currency={\"USD\":float(currency[15].text), \"JPY\":float(currency[71].text), \"CHY\":float(currency[159].text),\n",
    "                                              \"GBP\":float(currency[31].text),\"KRW\":float(currency[135].text),\"THB\":float(currency[103].text),\n",
    "                                              \"EUR\":float(currency[159].text)});"
   ]
  },
  {
   "cell_type": "code",
   "execution_count": null,
   "metadata": {
    "collapsed": true
   },
   "outputs": [],
   "source": []
  }
 ],
 "metadata": {
  "kernelspec": {
   "display_name": "Python 2",
   "language": "python",
   "name": "python2"
  },
  "language_info": {
   "codemirror_mode": {
    "name": "ipython",
    "version": 2
   },
   "file_extension": ".py",
   "mimetype": "text/x-python",
   "name": "python",
   "nbconvert_exporter": "python",
   "pygments_lexer": "ipython2",
   "version": "2.7.12"
  }
 },
 "nbformat": 4,
 "nbformat_minor": 0
}
