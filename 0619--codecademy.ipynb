{
 "cells": [
  {
   "cell_type": "code",
   "execution_count": 1,
   "metadata": {
    "collapsed": false
   },
   "outputs": [
    {
     "name": "stdout",
     "output_type": "stream",
     "text": [
      "100\n"
     ]
    }
   ],
   "source": [
    "a=10**2\n",
    "print a"
   ]
  },
  {
   "cell_type": "code",
   "execution_count": 2,
   "metadata": {
    "collapsed": false
   },
   "outputs": [
    {
     "name": "stdout",
     "output_type": "stream",
     "text": [
      "This isn't flying, this is falling with style!\n"
     ]
    }
   ],
   "source": [
    "aa= 'This isn\\'t flying, this is falling with style!'\n",
    "print aa"
   ]
  },
  {
   "cell_type": "code",
   "execution_count": 3,
   "metadata": {
    "collapsed": false
   },
   "outputs": [
    {
     "name": "stdout",
     "output_type": "stream",
     "text": [
      "Hello Mike\n"
     ]
    }
   ],
   "source": [
    "name = \"Mike\"\n",
    "print \"Hello %s\" % (name)\n"
   ]
  },
  {
   "cell_type": "code",
   "execution_count": 4,
   "metadata": {
    "collapsed": false
   },
   "outputs": [
    {
     "name": "stdout",
     "output_type": "stream",
     "text": [
      "The Knights who say Ni!\n"
     ]
    }
   ],
   "source": [
    "print \"The %s who %s %s!\" % (\"Knights\", \"say\", \"Ni\")\n",
    "# This will print \"The Knights who say Ni!\""
   ]
  },
  {
   "cell_type": "code",
   "execution_count": 5,
   "metadata": {
    "collapsed": false
   },
   "outputs": [
    {
     "name": "stdout",
     "output_type": "stream",
     "text": [
      "What is your name?scott\n",
      "What is your quest?no\n",
      "What is your favorite color?re\n",
      "Ah, so your name is scott, your quest is no, and your favorite color is re.\n"
     ]
    }
   ],
   "source": [
    "name = raw_input(\"What is your name?\")\n",
    "quest = raw_input(\"What is your quest?\")\n",
    "color = raw_input(\"What is your favorite color?\")\n",
    "\n",
    "print \"Ah, so your name is %s, your quest is %s, \" \\\n",
    "\"and your favorite color is %s.\" %(name, quest, color)"
   ]
  },
  {
   "cell_type": "code",
   "execution_count": 7,
   "metadata": {
    "collapsed": false
   },
   "outputs": [
    {
     "name": "stdout",
     "output_type": "stream",
     "text": [
      "Foxtrot\n",
      "Golf, Hotel\n"
     ]
    }
   ],
   "source": [
    "'Alpha'\n",
    "\"Bravo\"\n",
    "str(3)\n",
    "\n",
    "len(\"Charlie\")\n",
    "\"Delta\".upper()\n",
    "\"Echo\".lower()\n",
    "\n",
    "print \"Foxtrot\"\n",
    "\n",
    "g = \"Golf\"\n",
    "h = \"Hotel\"\n",
    "print \"%s, %s\" % (g, h)"
   ]
  },
  {
   "cell_type": "code",
   "execution_count": 13,
   "metadata": {
    "collapsed": false
   },
   "outputs": [
    {
     "name": "stdout",
     "output_type": "stream",
     "text": [
      "2016\n",
      "6\n",
      "19\n",
      "2016-6-19\n",
      "19/6/2016\n",
      "0:36:16\n"
     ]
    }
   ],
   "source": [
    "from datetime import datetime\n",
    "\n",
    "from datetime import datetime\n",
    "now = datetime.now()\n",
    "\n",
    "current_year = now.year\n",
    "current_month = now.month\n",
    "current_day = now.day\n",
    "\n",
    "print current_year\n",
    "print current_month\n",
    "print current_day\n",
    "\n",
    "print '%s-%s-%s' % (now.year, now.month, now.day)\n",
    "print '%s/%s/%s' % (now.day, now.month, now.year)\n",
    "print '%s:%s:%s' % (now.hour, now.minute, now.second)"
   ]
  },
  {
   "cell_type": "code",
   "execution_count": 14,
   "metadata": {
    "collapsed": false
   },
   "outputs": [
    {
     "name": "stdout",
     "output_type": "stream",
     "text": [
      "You've just entered the clinic!\n",
      "Do you take the door on the left or the right?\n",
      "Type left or right and hit 'Enter'.1\n",
      "You didn't pick left or right! Try again.\n",
      "You've just entered the clinic!\n",
      "Do you take the door on the left or the right?\n",
      "Type left or right and hit 'Enter'.right\n",
      "Of course this is the Argument Room, I've told you that already!\n"
     ]
    }
   ],
   "source": [
    "def clinic():\n",
    "    print \"You've just entered the clinic!\"\n",
    "    print \"Do you take the door on the left or the right?\"\n",
    "    answer = raw_input(\"Type left or right and hit 'Enter'.\").lower()\n",
    "    if answer == \"left\" or answer == \"l\":\n",
    "        print \"This is the Verbal Abuse Room, you heap of parrot droppings!\"\n",
    "    elif answer == \"right\" or answer == \"r\":\n",
    "        print \"Of course this is the Argument Room, I've told you that already!\"\n",
    "    else:\n",
    "        print \"You didn't pick left or right! Try again.\"\n",
    "        clinic()\n",
    "\n",
    "clinic()"
   ]
  },
  {
   "cell_type": "code",
   "execution_count": 15,
   "metadata": {
    "collapsed": false
   },
   "outputs": [
    {
     "name": "stdout",
     "output_type": "stream",
     "text": [
      "-1\n",
      "0\n",
      "1\n"
     ]
    }
   ],
   "source": [
    "def greater_less_equal_5(answer):\n",
    "    if answer>5:\n",
    "        return 1\n",
    "    elif answer<5:          \n",
    "        return -1\n",
    "    else:\n",
    "        return 0\n",
    "        \n",
    "print greater_less_equal_5(4)\n",
    "print greater_less_equal_5(5)\n",
    "print greater_less_equal_5(6)\n"
   ]
  },
  {
   "cell_type": "code",
   "execution_count": null,
   "metadata": {
    "collapsed": true
   },
   "outputs": [],
   "source": []
  }
 ],
 "metadata": {
  "kernelspec": {
   "display_name": "Python 2",
   "language": "python",
   "name": "python2"
  },
  "language_info": {
   "codemirror_mode": {
    "name": "ipython",
    "version": 2
   },
   "file_extension": ".py",
   "mimetype": "text/x-python",
   "name": "python",
   "nbconvert_exporter": "python",
   "pygments_lexer": "ipython2",
   "version": "2.7.11"
  }
 },
 "nbformat": 4,
 "nbformat_minor": 0
}
