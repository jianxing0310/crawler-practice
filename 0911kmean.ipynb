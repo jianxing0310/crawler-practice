{
 "cells": [
  {
   "cell_type": "code",
   "execution_count": 1,
   "metadata": {
    "collapsed": true
   },
   "outputs": [],
   "source": [
    "## clustering\n",
    "\n",
    "from __future__ import division\n",
    "import random\n",
    "import matplotlib.pyplot as plt\n",
    "\n",
    "\n",
    "def squared_distance(v,w):\n",
    "    '''\n",
    "    v,w is a vector,\n",
    "    return the value of (v1-w1)^2 + (v2-w2)^2 +...\n",
    "    '''\n",
    "    return sum([(vi-wi)**2 for vi,wi in zip(v,w)])\n",
    "def vector_add(v,w):\n",
    "    '''add corresponding elements'''\n",
    "    return [vi+wi for vi,wi in zip(v,w)]\n",
    "\n",
    "def vector_sum(vectors):\n",
    "    '''sum over elements '''\n",
    "    result = vectors[0]\n",
    "    for vector in vectors[1:]:\n",
    "        result = vector_add(result,vector)\n",
    "    return result\n",
    "def scalar_multiply(c,v):\n",
    "    '''c is a number, v is vector'''\n",
    "    return [c*vi for vi in v]\n",
    "def vector_mean(v_list):\n",
    "    '''\n",
    "    v_list is the lists of data sets (x1,y1,z1,..),(x2,y2,z2,...),\n",
    "    retrun the value of mean of this data sets\n",
    "\n",
    "    '''\n",
    "    n = len(v_list)\n",
    "    \n",
    "    return scalar_multiply(1/n, vector_sum(v_list))\n",
    "\n",
    "\n",
    "class KMeans:\n",
    "    def __init__(self,k):\n",
    "        self.k = k\n",
    "        self.means = None ## mean point to be classified\n",
    "\n",
    "\n",
    "    def classify(self,input):\n",
    "        \"\"\"classify the input data(xi,yi) into one of the k-size group\n",
    "        \"\"\"\n",
    "        clf = min(range(self.k), key = lambda i:squared_distance(input, self.means[i]))\n",
    "        return clf\n",
    "\n",
    "    def train(self,inputs):\n",
    "        initial_guess = random.sample(inputs, self.k)\n",
    "        self.means = initial_guess\n",
    "        # Find new category \n",
    "\n",
    "        category = None\n",
    "        while True:\n",
    "            new_category = map(self.classify, inputs)\n",
    "            if new_category == category:\n",
    "                return\n",
    "            category = new_category\n",
    "            ## find all points asign to cluster i\n",
    "\n",
    "            for i in range(self.k):\n",
    "                i_points = [p for p,a in zip(inputs,category) if a==i]\n",
    "\n",
    "                if i_points: ## make sure no divide by zero lens\n",
    "\n",
    "                    self.means[i] = vector_mean(i_points)\n",
    "\n",
    "\n",
    "## drawing \n",
    "\n",
    "def draw():\n",
    "    inputs = [[-14,-5],[13,13],[20,23],[-19,-11],[-9,-16],[21,27],[-49,15],[26,13],[-46,5],[-34,-1],[11,15],[-49,0],[-22,-16],[19,28],[-12,-8],[-13,-19],[-41,8],[-11,-6],[-25,-9],[-18,-3]]\n",
    "\n",
    "    test = KMeans(3)\n",
    "    test.train(inputs)\n",
    "    x0 = [xi for xi,_ in inputs]\n",
    "    y0 = [yi for _,yi in inputs]\n",
    "\n",
    "    x_means = [xi for xi,_ in test.means]\n",
    "    y_means = [yi for _,yi in test.means]\n",
    "\n",
    "    print test.means\n",
    "\n",
    "    plt.scatter(x0,y0)\n",
    "    plt.scatter(x_means,y_means,color ='r')\n",
    "    plt.show()\n"
   ]
  },
  {
   "cell_type": "code",
   "execution_count": 3,
   "metadata": {
    "collapsed": false
   },
   "outputs": [
    {
     "name": "stdout",
     "output_type": "stream",
     "text": [
      "[[-15.888888888888888, -10.333333333333332], [-43.800000000000004, 5.4], [18.333333333333332, 19.833333333333332]]\n"
     ]
    }
   ],
   "source": [
    "inputs = [[-14,-5],[13,13],[20,23],[-19,-11],[-9,-16],[21,27],[-49,15],[26,13],[-46,5],[-34,-1],[11,15],[-49,0],[-22,-16],[19,28],[-12,-8],[-13,-19],[-41,8],[-11,-6],[-25,-9],[-18,-3]]\n",
    "\n",
    "test = KMeans(3)\n",
    "test.train(inputs)\n",
    "x0 = [xi for xi,_ in inputs]\n",
    "y0 = [yi for _,yi in inputs]\n",
    "\n",
    "x_means = [xi for xi,_ in test.means]\n",
    "y_means = [yi for _,yi in test.means]\n",
    "\n",
    "print test.means\n",
    "\n",
    "plt.scatter(x0,y0)\n",
    "plt.scatter(x_means,y_means,color ='r')\n",
    "plt.show()\n"
   ]
  },
  {
   "cell_type": "code",
   "execution_count": null,
   "metadata": {
    "collapsed": true
   },
   "outputs": [],
   "source": []
  }
 ],
 "metadata": {
  "kernelspec": {
   "display_name": "Python 2",
   "language": "python",
   "name": "python2"
  },
  "language_info": {
   "codemirror_mode": {
    "name": "ipython",
    "version": 2
   },
   "file_extension": ".py",
   "mimetype": "text/x-python",
   "name": "python",
   "nbconvert_exporter": "python",
   "pygments_lexer": "ipython2",
   "version": "2.7.12"
  }
 },
 "nbformat": 4,
 "nbformat_minor": 0
}
