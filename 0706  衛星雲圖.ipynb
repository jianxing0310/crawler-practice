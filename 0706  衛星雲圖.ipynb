{
 "cells": [
  {
   "cell_type": "code",
   "execution_count": null,
   "metadata": {
    "collapsed": true
   },
   "outputs": [],
   "source": [
    "# coding=UTF-8\n",
    "import datetime\n",
    "\n",
    "def get_img():\n",
    "    for date in daterange(START_DATE, END_DATE):\n",
    "        for satellite in SATELLITES:\n",
    "            for img_type in TYPES:\n",
    "                for i in range(0, 24, 3):\n",
    "                    img_name = '{}-{:02}'.format(date.strftime('%Y-%m-%d'), i)\n",
    "                    img_src = 'http://www.ncdc.noaa.gov/gibbs/image/{}/{}/{}'.format(satellite, img_type, img_name)\n",
    "                    img_dest = os.path.join(LOCAL_SAVE_PATH, '{}-{}-{}.png'.format(satellite, img_type, img_name))\n",
    "                    try:\n",
    "                        request.urlretrieve(img_src, img_dest)\n",
    "                        print('Save url:[{}] to file [{}]'.format(img_src, img_dest))\n",
    "                    except error.HTTPError as err:\n",
    "                        print('Save url:[{}] meet error [{}] !!'.format(img_src, err))\n",
    "\n",
    "\n",
    "if __name__ == '__main__':\n",
    "    get_img()"
   ]
  }
 ],
 "metadata": {
  "kernelspec": {
   "display_name": "Python 2",
   "language": "python",
   "name": "python2"
  },
  "language_info": {
   "codemirror_mode": {
    "name": "ipython",
    "version": 2
   },
   "file_extension": ".py",
   "mimetype": "text/x-python",
   "name": "python",
   "nbconvert_exporter": "python",
   "pygments_lexer": "ipython2",
   "version": "2.7.11"
  }
 },
 "nbformat": 4,
 "nbformat_minor": 0
}
