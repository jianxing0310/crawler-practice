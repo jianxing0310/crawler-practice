{
 "cells": [
  {
   "cell_type": "code",
   "execution_count": 1,
   "metadata": {
    "collapsed": false
   },
   "outputs": [
    {
     "name": "stdout",
     "output_type": "stream",
     "text": [
      "A star of a popular children's cartoon show.\n",
      "Goes on the floor.\n",
      "A small amount.\n",
      "The sound a goat makes.\n"
     ]
    }
   ],
   "source": [
    "webster = {\n",
    "\t\"Aardvark\" : \"A star of a popular children's cartoon show.\",\n",
    "    \"Baa\" : \"The sound a goat makes.\",\n",
    "    \"Carpet\": \"Goes on the floor.\",\n",
    "    \"Dab\": \"A small amount.\"\n",
    "}\n",
    "\n",
    "# Add your code below!\n",
    "for a in webster:\n",
    "    print webster[a]  # 印 value\n",
    "    "
   ]
  },
  {
   "cell_type": "code",
   "execution_count": 2,
   "metadata": {
    "collapsed": false
   },
   "outputs": [
    {
     "name": "stdout",
     "output_type": "stream",
     "text": [
      "0\n",
      "2\n",
      "4\n",
      "6\n",
      "8\n",
      "10\n",
      "12\n"
     ]
    }
   ],
   "source": [
    "a = [0, 1, 2, 3, 4, 5, 6, 7, 8, 9, 10, 11, 12, 13]\n",
    "\n",
    "for i in a:\n",
    "    if i % 2 == 0:\n",
    "        print i"
   ]
  },
  {
   "cell_type": "code",
   "execution_count": 3,
   "metadata": {
    "collapsed": false
   },
   "outputs": [
    {
     "name": "stdout",
     "output_type": "stream",
     "text": [
      "2\n"
     ]
    }
   ],
   "source": [
    "# Write your function below!\n",
    "def fizz_count(x):\n",
    "    count = 0\n",
    "    for item in x:\n",
    "        if item == \"fizz\":\n",
    "            count += 1\n",
    "    return count\n",
    "\n",
    "\n",
    "a = [\"fizz\",\"cat\",\"fizz\"]\n",
    "s = fizz_count(a)\n",
    "print s\n"
   ]
  },
  {
   "cell_type": "code",
   "execution_count": 4,
   "metadata": {
    "collapsed": false
   },
   "outputs": [
    {
     "name": "stdout",
     "output_type": "stream",
     "text": [
      "C\n",
      "o\n",
      "d\n",
      "e\n",
      "c\n",
      "a\n",
      "d\n",
      "e\n",
      "m\n",
      "y\n",
      "\n",
      "\n",
      "i\n",
      "i\n"
     ]
    }
   ],
   "source": [
    "for letter in \"Codecademy\":\n",
    "    print letter\n",
    "    \n",
    "# Empty lines to make the output pretty\n",
    "print\n",
    "print\n",
    "\n",
    "word = \"Programming is fun!\"\n",
    "\n",
    "for letter in word:\n",
    "    # Only print out the letter i\n",
    "    if letter == \"i\":\n",
    "        print letter"
   ]
  },
  {
   "cell_type": "code",
   "execution_count": 5,
   "metadata": {
    "collapsed": false
   },
   "outputs": [
    {
     "name": "stdout",
     "output_type": "stream",
     "text": [
      "\n",
      "orange\n",
      "price: 1.5\n",
      "stock: 32\n",
      "48.0\n",
      "\n",
      "pear\n",
      "price: 3\n",
      "stock: 15\n",
      "45\n",
      "\n",
      "banana\n",
      "price: 4\n",
      "stock: 6\n",
      "24\n",
      "\n",
      "apple\n",
      "price: 2\n",
      "stock: 0\n",
      "0\n",
      "117.0\n"
     ]
    }
   ],
   "source": [
    "prices = {\n",
    "    \"banana\" : 4,\n",
    "    \"apple\"  : 2,\n",
    "    \"orange\" : 1.5,\n",
    "    \"pear\"   : 3,\n",
    "}\n",
    "stock = {\n",
    "    \"banana\" : 6,\n",
    "    \"apple\"  : 0,\n",
    "    \"orange\" : 32,\n",
    "    \"pear\"   : 15,\n",
    "}\n",
    "total =0\n",
    "\n",
    "for key in prices:\n",
    "    print\n",
    "    print key\n",
    "    print \"price: %s\" % prices[key]\n",
    "    print \"stock: %s\" % stock[key]\n",
    "    a= prices[key] * stock[key]\n",
    "    print a\n",
    "    total += a\n",
    "    \n",
    "print total"
   ]
  },
  {
   "cell_type": "code",
   "execution_count": 6,
   "metadata": {
    "collapsed": true
   },
   "outputs": [],
   "source": [
    "\n",
    "shopping_list = [\"banana\", \"orange\", \"apple\"]\n",
    "\n",
    "stock = {\n",
    "    \"banana\": 6,\n",
    "    \"apple\": 0,\n",
    "    \"orange\": 32,\n",
    "    \"pear\": 15\n",
    "}\n",
    "    \n",
    "prices = {\n",
    "    \"banana\": 4,\n",
    "    \"apple\": 2,\n",
    "    \"orange\": 1.5,\n",
    "    \"pear\": 3\n",
    "}\n",
    "\n",
    "\n",
    "def compute_bill(food):\n",
    "    total = 0\n",
    "    for item in food:\n",
    "        if stock[item] > 0:\n",
    "            total = total + prices[item]\n",
    "            stock[item] -= 1\n",
    "        else:\n",
    "            total = total \n",
    "    return total\n"
   ]
  },
  {
   "cell_type": "code",
   "execution_count": null,
   "metadata": {
    "collapsed": false
   },
   "outputs": [],
   "source": []
  },
  {
   "cell_type": "code",
   "execution_count": 8,
   "metadata": {
    "collapsed": false
   },
   "outputs": [
    {
     "data": {
      "text/plain": [
       "'dlrow olleh'"
      ]
     },
     "execution_count": 8,
     "metadata": {},
     "output_type": "execute_result"
    }
   ],
   "source": [
    "# 反轉字串   Reverse String\n",
    "\n",
    "\n",
    "'hello world'[::-1]"
   ]
  },
  {
   "cell_type": "code",
   "execution_count": 10,
   "metadata": {
    "collapsed": false
   },
   "outputs": [
    {
     "data": {
      "text/plain": [
       "True"
      ]
     },
     "execution_count": 10,
     "metadata": {},
     "output_type": "execute_result"
    }
   ],
   "source": [
    "def isPerfectSquare(num):\n",
    "        \"\"\"\n",
    "        :type num: int\n",
    "        :rtype: bool\n",
    "        \"\"\"\n",
    "        left, right = 1, num\n",
    "        while left <= right:\n",
    "            mid = left + (right - left) / 2\n",
    "            if mid >= num / mid:\n",
    "                right = mid - 1\n",
    "            else:\n",
    "                left = mid + 1\n",
    "        return left == num / left and num % left == 0\n",
    "    \n",
    "isPerfectSquare(16)    "
   ]
  },
  {
   "cell_type": "code",
   "execution_count": 13,
   "metadata": {
    "collapsed": false
   },
   "outputs": [
    {
     "data": {
      "text/plain": [
       "False"
      ]
     },
     "execution_count": 13,
     "metadata": {},
     "output_type": "execute_result"
    }
   ],
   "source": [
    "isPerfectSquare(14)  "
   ]
  },
  {
   "cell_type": "code",
   "execution_count": 19,
   "metadata": {
    "collapsed": false
   },
   "outputs": [
    {
     "name": "stdout",
     "output_type": "stream",
     "text": [
      "1 16\n",
      "-------------------\n",
      "m= 8\n",
      "r= 7\n",
      "l= 1\n",
      "-------------------\n",
      "m= 4\n",
      "r= 3\n",
      "l= 1\n",
      "-------------------\n",
      "m= 2\n",
      "r= 3\n",
      "l= 3\n",
      "-------------------\n",
      "m= 3\n",
      "r= 3\n",
      "l= 4\n",
      "-------------------\n"
     ]
    }
   ],
   "source": [
    "num =16\n",
    "left, right = 1, num\n",
    "print left, right\n",
    "print \"-------------------\"\n",
    "while left <= right:\n",
    "    mid = left + (right - left) / 2\n",
    "    print \"m=\", mid\n",
    "    if mid >= num / mid:\n",
    "        right = mid - 1\n",
    "        print \"r=\",right\n",
    "        print \"l=\",left\n",
    "        print \"-------------------\"\n",
    "    else:\n",
    "        left = mid + 1\n",
    "        print \"r=\",right\n",
    "        print \"l=\",left\n",
    "        print \"-------------------\""
   ]
  },
  {
   "cell_type": "code",
   "execution_count": 29,
   "metadata": {
    "collapsed": false
   },
   "outputs": [
    {
     "name": "stdout",
     "output_type": "stream",
     "text": [
      "[1, 0, 1, 0, 3, 12, 0, 7]\n",
      "[1, 1, 0, 0, 3, 12, 0, 7]\n",
      "[1, 1, 3, 0, 0, 12, 0, 7]\n",
      "[1, 1, 3, 12, 0, 0, 0, 7]\n",
      "[1, 1, 3, 12, 7, 0, 0, 0]\n",
      "================\n",
      "[1, 1, 3, 12, 7, 0, 0, 0]\n"
     ]
    }
   ],
   "source": [
    "def moveZeroes(nums):\n",
    "        \"\"\"\n",
    "        :type nums: List[int]\n",
    "        :rtype: void Do not return anything, modify nums in-place instead.\n",
    "        \"\"\"\n",
    "        pos = 0\n",
    "        for i in xrange(len(nums)):\n",
    "            if nums[i]:\n",
    "                nums[i], nums[pos] = nums[pos], nums[i]\n",
    "                print nums\n",
    "                pos += 1\n",
    "        \n",
    "\n",
    "a = [1, 0, 1, 0, 3, 12,0,7]                \n",
    "moveZeroes(a)\n",
    "print \"================\"\n",
    "print a"
   ]
  },
  {
   "cell_type": "code",
   "execution_count": 32,
   "metadata": {
    "collapsed": false
   },
   "outputs": [
    {
     "name": "stdout",
     "output_type": "stream",
     "text": [
      "[1, 0, 0, 3, 12, 14, 7, 0, 6]\n"
     ]
    }
   ],
   "source": [
    "a = [0, 1, 0, 3, 12 ,14 ,7 ,0 ,6]                \n",
    "\n",
    "a[0],a[1] = a[1],a[0]\n",
    "\n",
    "print a"
   ]
  },
  {
   "cell_type": "code",
   "execution_count": 35,
   "metadata": {
    "collapsed": false
   },
   "outputs": [
    {
     "name": "stdout",
     "output_type": "stream",
     "text": [
      "1 1\n",
      "3 3\n",
      "4 12\n",
      "5 14\n",
      "6 7\n",
      "8 6\n"
     ]
    }
   ],
   "source": [
    "a = [0, 1, 0, 3, 12 ,14 ,7 ,0 ,6]                \n",
    "for i in xrange(len(a)):\n",
    "    if a[i]:\n",
    "        print i,a[i] # 印出非0的位置,數字\n",
    "        \n",
    "    "
   ]
  },
  {
   "cell_type": "code",
   "execution_count": null,
   "metadata": {
    "collapsed": true
   },
   "outputs": [],
   "source": []
  }
 ],
 "metadata": {
  "kernelspec": {
   "display_name": "Python 2",
   "language": "python",
   "name": "python2"
  },
  "language_info": {
   "codemirror_mode": {
    "name": "ipython",
    "version": 2
   },
   "file_extension": ".py",
   "mimetype": "text/x-python",
   "name": "python",
   "nbconvert_exporter": "python",
   "pygments_lexer": "ipython2",
   "version": "2.7.11"
  }
 },
 "nbformat": 4,
 "nbformat_minor": 0
}
